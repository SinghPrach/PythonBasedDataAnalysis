{
 "cells": [
  {
   "cell_type": "code",
   "execution_count": 0,
   "metadata": {
    "application/vnd.databricks.v1+cell": {
     "cellMetadata": {},
     "inputWidgets": {},
     "nuid": "9dcfe51f-85cd-442c-b08a-ee7ece92b494",
     "showTitle": false,
     "title": ""
    }
   },
   "outputs": [],
   "source": [
    "# importing spark session\n",
    "from pyspark.sql import SparkSession\n",
    "\n",
    "# importing visualization modules\n",
    "import matplotlib.pyplot as plt\n",
    "import plotly.express as px\n",
    "\n",
    "# pandas module\n",
    "import pandas as pd\n",
    "\n",
    "# pyspark SQL functions\n",
    "from pyspark.sql.functions import col,when,count\n",
    "from pyspark.sql.types import IntegerType,BooleanType,DateType,DoubleType\n",
    "\n",
    "# pyspark data preprocessing modules\n",
    "from pyspark.ml.feature import Imputer,StringIndexer,VectorAssembler,StandardScaler,OneHotEncoder\n",
    "\n",
    "# pyspark data modelling and model evaluation modules\n",
    "from pyspark.ml.classification import DecisionTreeClassifier\n",
    "from pyspark.ml.evaluation import BinaryClassificationEvaluator "
   ]
  },
  {
   "cell_type": "code",
   "execution_count": 0,
   "metadata": {
    "application/vnd.databricks.v1+cell": {
     "cellMetadata": {},
     "inputWidgets": {},
     "nuid": "ecccf1d9-0ab1-4c00-8a99-baa2e357ff0d",
     "showTitle": false,
     "title": ""
    }
   },
   "outputs": [],
   "source": [
    "spark = SparkSession.builder.appName(\"customer_churn\").getOrCreate()\n",
    "# spark"
   ]
  },
  {
   "cell_type": "code",
   "execution_count": 0,
   "metadata": {
    "application/vnd.databricks.v1+cell": {
     "cellMetadata": {},
     "inputWidgets": {},
     "nuid": "8f7fe57e-e142-4ac1-8520-7980c9b2bd5a",
     "showTitle": false,
     "title": ""
    }
   },
   "outputs": [],
   "source": [
    "df_raw = spark.read.option(\"header\",\"true\").option(\"inferschema\",\"true\").csv(\"/mnt/adls/test/PrachiSingh/Try/CustomerChurn/\")"
   ]
  },
  {
   "cell_type": "code",
   "execution_count": 0,
   "metadata": {
    "application/vnd.databricks.v1+cell": {
     "cellMetadata": {},
     "inputWidgets": {},
     "nuid": "dfb24d52-cda3-4d2a-91ad-09fb6c6dcfcb",
     "showTitle": false,
     "title": ""
    }
   },
   "outputs": [],
   "source": [
    "df_raw.printSchema()"
   ]
  },
  {
   "cell_type": "code",
   "execution_count": 0,
   "metadata": {
    "application/vnd.databricks.v1+cell": {
     "cellMetadata": {},
     "inputWidgets": {},
     "nuid": "00eb9a54-aabd-482b-b3de-e9521eaa7e07",
     "showTitle": false,
     "title": ""
    }
   },
   "outputs": [],
   "source": [
    "df_raw.count()"
   ]
  },
  {
   "cell_type": "code",
   "execution_count": 0,
   "metadata": {
    "application/vnd.databricks.v1+cell": {
     "cellMetadata": {},
     "inputWidgets": {},
     "nuid": "2c716886-9f53-4572-93f7-ea5300d10022",
     "showTitle": false,
     "title": ""
    }
   },
   "outputs": [],
   "source": [
    "# df_raw.columns\n",
    "# Gives the list of all the column names in the Pyspark dataframe"
   ]
  },
  {
   "cell_type": "code",
   "execution_count": 0,
   "metadata": {
    "application/vnd.databricks.v1+cell": {
     "cellMetadata": {},
     "inputWidgets": {},
     "nuid": "3e3101ed-3538-4ce5-80b9-75118cd259d0",
     "showTitle": false,
     "title": ""
    }
   },
   "outputs": [],
   "source": [
    "len(df_raw.columns)"
   ]
  },
  {
   "cell_type": "markdown",
   "metadata": {
    "application/vnd.databricks.v1+cell": {
     "cellMetadata": {},
     "inputWidgets": {},
     "nuid": "56f42bac-2642-48ff-bafe-baae3638f072",
     "showTitle": false,
     "title": ""
    }
   },
   "source": [
    "#### Exploratory Data Analysis\n",
    "1. Distribution Analysis\n",
    "2. Correlation Analysis\n",
    "3. Unvariate Analysis\n",
    "4. Finding Missing Values"
   ]
  },
  {
   "cell_type": "code",
   "execution_count": 0,
   "metadata": {
    "application/vnd.databricks.v1+cell": {
     "cellMetadata": {},
     "inputWidgets": {},
     "nuid": "eb7fbeaa-ed94-467e-bbfc-fa80e7b1cf9d",
     "showTitle": false,
     "title": ""
    }
   },
   "outputs": [],
   "source": [
    "display(df_raw)"
   ]
  },
  {
   "cell_type": "code",
   "execution_count": 0,
   "metadata": {
    "application/vnd.databricks.v1+cell": {
     "cellMetadata": {},
     "inputWidgets": {},
     "nuid": "91834579-da5a-40da-afd8-c4b6dabe0823",
     "showTitle": false,
     "title": ""
    }
   },
   "outputs": [],
   "source": [
    "df_raw = df_raw.withColumn(\"SeniorCitizen\",when(df_raw.SeniorCitizen == 0,\"No\")\n",
    "                                           .when(df_raw.SeniorCitizen == 1,\"Yes\"))"
   ]
  },
  {
   "cell_type": "code",
   "execution_count": 0,
   "metadata": {
    "application/vnd.databricks.v1+cell": {
     "cellMetadata": {},
     "inputWidgets": {},
     "nuid": "3235026a-fe2d-403e-8e1c-91227e423256",
     "showTitle": false,
     "title": ""
    }
   },
   "outputs": [],
   "source": [
    "df_raw = df_raw.withColumn(\"TotalCharges\",df_raw.TotalCharges.cast(DoubleType()))"
   ]
  },
  {
   "cell_type": "code",
   "execution_count": 0,
   "metadata": {
    "application/vnd.databricks.v1+cell": {
     "cellMetadata": {},
     "inputWidgets": {},
     "nuid": "7142f9cd-90ff-4f58-aea9-287285db460a",
     "showTitle": false,
     "title": ""
    }
   },
   "outputs": [],
   "source": [
    "df_raw.dtypes"
   ]
  },
  {
   "cell_type": "code",
   "execution_count": 0,
   "metadata": {
    "application/vnd.databricks.v1+cell": {
     "cellMetadata": {},
     "inputWidgets": {},
     "nuid": "ec598d7d-dc8c-4095-a308-26be699b9a9d",
     "showTitle": false,
     "title": ""
    }
   },
   "outputs": [],
   "source": [
    "# Definning some lists to store different column names with different data types\n",
    "# numerical_columns contains int and double data types\n",
    "numerical_columns =  [name for name,typ in df_raw.dtypes if typ==\"double\" or typ==\"int\"]\n",
    "numerical_columns"
   ]
  },
  {
   "cell_type": "code",
   "execution_count": 0,
   "metadata": {
    "application/vnd.databricks.v1+cell": {
     "cellMetadata": {},
     "inputWidgets": {},
     "nuid": "5113abff-76a0-4cb2-abb0-9d9a0795cfd9",
     "showTitle": false,
     "title": ""
    }
   },
   "outputs": [],
   "source": [
    "categorical_columns =  [name for name,typ in df_raw.dtypes if typ==\"string\"]\n",
    "categorical_columns"
   ]
  },
  {
   "cell_type": "code",
   "execution_count": 0,
   "metadata": {
    "application/vnd.databricks.v1+cell": {
     "cellMetadata": {},
     "inputWidgets": {},
     "nuid": "9304fa9b-f1b0-4255-b9f5-4bfdb6456e88",
     "showTitle": false,
     "title": ""
    }
   },
   "outputs": [],
   "source": [
    "# Get all the numerical features and store them into a Pandas Dataframe\n",
    "df_num = df_raw.select(numerical_columns).toPandas()\n",
    "df_num.head()"
   ]
  },
  {
   "cell_type": "code",
   "execution_count": 0,
   "metadata": {
    "application/vnd.databricks.v1+cell": {
     "cellMetadata": {},
     "inputWidgets": {},
     "nuid": "61c3012d-7add-4e5a-98a7-b5e817f9f7eb",
     "showTitle": false,
     "title": ""
    }
   },
   "outputs": [],
   "source": [
    "# Creating Histograms to analyse the distribution of numerical data\n",
    "fig = plt.figure(figsize = (15,10))\n",
    "ax = fig.gca()\n",
    "df_num.hist(ax=ax, bins=20)"
   ]
  },
  {
   "cell_type": "code",
   "execution_count": 0,
   "metadata": {
    "application/vnd.databricks.v1+cell": {
     "cellMetadata": {},
     "inputWidgets": {},
     "nuid": "35d5f6ed-ec26-4980-b15d-cee754e1fbab",
     "showTitle": false,
     "title": ""
    }
   },
   "outputs": [],
   "source": [
    "df_num.describe()"
   ]
  },
  {
   "cell_type": "code",
   "execution_count": 0,
   "metadata": {
    "application/vnd.databricks.v1+cell": {
     "cellMetadata": {},
     "inputWidgets": {},
     "nuid": "c39eae69-681a-4180-b1d2-02f88960282b",
     "showTitle": false,
     "title": ""
    }
   },
   "outputs": [],
   "source": [
    "# From the df_num.describe(), we can see that the maximum value of TotalCharges is far than its mean value. So, this maxm value can be considered as an outlier. So, we will remove this value from the dataset."
   ]
  },
  {
   "cell_type": "code",
   "execution_count": 0,
   "metadata": {
    "application/vnd.databricks.v1+cell": {
     "cellMetadata": {},
     "inputWidgets": {},
     "nuid": "a561e338-80c1-4904-a930-f12ea06ce6ee",
     "showTitle": false,
     "title": ""
    }
   },
   "outputs": [],
   "source": [
    "# When exploring data, the outliers are the extreme values within the dataset. That means the outlier data points vary greatly from the expected values—either being much larger or significantly smaller. For data that follows a normal distribution, the values that fall more than three standard deviations from the mean are typically considered outliers. "
   ]
  },
  {
   "cell_type": "code",
   "execution_count": 0,
   "metadata": {
    "application/vnd.databricks.v1+cell": {
     "cellMetadata": {},
     "inputWidgets": {},
     "nuid": "49ad546b-91ab-4b08-8924-78f4d5038af9",
     "showTitle": false,
     "title": ""
    }
   },
   "outputs": [],
   "source": [
    "# Correlation matrix- To understand the data and to see if we have any interesting patterns or not in the dataset."
   ]
  },
  {
   "cell_type": "code",
   "execution_count": 0,
   "metadata": {
    "application/vnd.databricks.v1+cell": {
     "cellMetadata": {},
     "inputWidgets": {},
     "nuid": "e21e0789-17aa-4b53-a791-cacdfe902ca6",
     "showTitle": false,
     "title": ""
    }
   },
   "outputs": [],
   "source": [
    "df_num.corr()"
   ]
  },
  {
   "cell_type": "code",
   "execution_count": 0,
   "metadata": {
    "application/vnd.databricks.v1+cell": {
     "cellMetadata": {},
     "inputWidgets": {},
     "nuid": "691ceaed-aff0-4d5e-9349-b070e228d0a9",
     "showTitle": false,
     "title": ""
    }
   },
   "outputs": [],
   "source": [
    "# 1. The correlation between tenure and MonthlyCharges is 0.2479 which is very low. Thus, it is safe to say that there is no significant correlation between tenure and MonthlyCharges. \n",
    "# 2. The correlation between tenure and TotalCharges is 0.82588, which is quite a big number. Thus, it is safe to say that there is no significant correlation between tenure and TotalCharges.\n",
    "# 3. The correlation between MonthlyCharges and TotalCharges is 0.0.651065, which is moderate. Thus, it is safe to say that there is no significant correlation between MonthlyCharges and TotalCharges."
   ]
  },
  {
   "cell_type": "code",
   "execution_count": 0,
   "metadata": {
    "application/vnd.databricks.v1+cell": {
     "cellMetadata": {},
     "inputWidgets": {},
     "nuid": "48e4c57e-f287-4a9f-a552-b2f8b6f7e1db",
     "showTitle": false,
     "title": ""
    }
   },
   "outputs": [],
   "source": [
    "# Let's get the unique value count per each categorical column\n",
    "# This ensures to check mis-spellings and missing values, if any, in the categorical columns."
   ]
  },
  {
   "cell_type": "code",
   "execution_count": 0,
   "metadata": {
    "application/vnd.databricks.v1+cell": {
     "cellMetadata": {},
     "inputWidgets": {},
     "nuid": "bef4b9ff-b32b-4d6f-9ad4-f5000e8f982c",
     "showTitle": false,
     "title": ""
    }
   },
   "outputs": [],
   "source": [
    "# Get all the categorical features \n",
    "df_cat = df_raw.select(categorical_columns).toPandas()\n",
    "df_cat_py = df_raw.select(categorical_columns)\n",
    "# df_cat.head()"
   ]
  },
  {
   "cell_type": "code",
   "execution_count": 0,
   "metadata": {
    "application/vnd.databricks.v1+cell": {
     "cellMetadata": {},
     "inputWidgets": {},
     "nuid": "3e6ddfb0-b30a-4839-aff6-08d296db7692",
     "showTitle": false,
     "title": ""
    }
   },
   "outputs": [],
   "source": [
    "for col_name in categorical_columns:\n",
    "  df_cat_py.groupby(col_name).count().show()"
   ]
  },
  {
   "cell_type": "code",
   "execution_count": 0,
   "metadata": {
    "application/vnd.databricks.v1+cell": {
     "cellMetadata": {},
     "inputWidgets": {},
     "nuid": "23a76129-1bcf-4a94-bc92-60fcc798192c",
     "showTitle": false,
     "title": ""
    }
   },
   "outputs": [],
   "source": [
    "for col_name in df_raw.columns:\n",
    "  df_raw.select(count(when(col(col_name).isNull(),col_name)).alias(col_name)).show()"
   ]
  },
  {
   "cell_type": "markdown",
   "metadata": {
    "application/vnd.databricks.v1+cell": {
     "cellMetadata": {},
     "inputWidgets": {},
     "nuid": "f13a4390-156f-48c9-ab85-282f77a93e0e",
     "showTitle": false,
     "title": ""
    }
   },
   "source": [
    "## Preprocess and Cleaning Data\n",
    "######### Handling the missing Values\n",
    "######### Removing the outliers"
   ]
  },
  {
   "cell_type": "code",
   "execution_count": 0,
   "metadata": {
    "application/vnd.databricks.v1+cell": {
     "cellMetadata": {},
     "inputWidgets": {},
     "nuid": "b6d6d23d-f93c-4a9f-bd69-559407fc6fe5",
     "showTitle": false,
     "title": ""
    }
   },
   "outputs": [],
   "source": [
    "# Dealing with Missing values\n",
    "# The filling of missing values in the columns depends on the type of column they are in.\n",
    "# For categorical columns, common technique is to filling the missing value with the most frequent value used in the column, or using the classification model to predict them.\n",
    "# For numerical columns, we can inject the missing value by the average value of the column.\n",
    "# Using Imputer, we can fill the missing value with the average, median or mode value."
   ]
  },
  {
   "cell_type": "code",
   "execution_count": 0,
   "metadata": {
    "application/vnd.databricks.v1+cell": {
     "cellMetadata": {},
     "inputWidgets": {},
     "nuid": "becfd4d0-7585-45b9-8f19-fa8546925bd0",
     "showTitle": false,
     "title": ""
    }
   },
   "outputs": [],
   "source": [
    "# Let's create the list of column names with the missing values\n",
    "columns_with_missing_values = [\"TotalCharges\"]"
   ]
  },
  {
   "cell_type": "code",
   "execution_count": 0,
   "metadata": {
    "application/vnd.databricks.v1+cell": {
     "cellMetadata": {},
     "inputWidgets": {},
     "nuid": "1c20f6f8-5581-455c-b064-3bb877662520",
     "showTitle": false,
     "title": ""
    }
   },
   "outputs": [],
   "source": [
    "imputer_object = Imputer(inputCols=columns_with_missing_values, outputCols=columns_with_missing_values).setStrategy(\"mean\")\n",
    "# Use imputer to fit the missing values\n",
    "imputer_object = imputer_object.fit(df_raw)"
   ]
  },
  {
   "cell_type": "code",
   "execution_count": 0,
   "metadata": {
    "application/vnd.databricks.v1+cell": {
     "cellMetadata": {},
     "inputWidgets": {},
     "nuid": "03572ff3-e357-4881-b012-8d51e2d02a96",
     "showTitle": false,
     "title": ""
    }
   },
   "outputs": [],
   "source": [
    "df_new = imputer_object.transform(df_raw)"
   ]
  },
  {
   "cell_type": "code",
   "execution_count": 0,
   "metadata": {
    "application/vnd.databricks.v1+cell": {
     "cellMetadata": {},
     "inputWidgets": {},
     "nuid": "6851982e-1bd2-496e-a733-d38baf8be611",
     "showTitle": false,
     "title": ""
    }
   },
   "outputs": [],
   "source": [
    "# Let's check the missing values count again\n",
    "df_raw.select(count(when(col(\"TotalCharges\").isNull(),\"TotalCharges\")).alias(\"TotalCharges\")).show()"
   ]
  },
  {
   "cell_type": "code",
   "execution_count": 0,
   "metadata": {
    "application/vnd.databricks.v1+cell": {
     "cellMetadata": {},
     "inputWidgets": {},
     "nuid": "079e9d6e-89ab-4187-beff-b7c81fa30df8",
     "showTitle": false,
     "title": ""
    }
   },
   "outputs": [],
   "source": [
    "# df_raw.select(\"*\").where(df_raw.tenure>100).show()"
   ]
  },
  {
   "cell_type": "code",
   "execution_count": 0,
   "metadata": {
    "application/vnd.databricks.v1+cell": {
     "cellMetadata": {},
     "inputWidgets": {},
     "nuid": "2f426ef9-d6aa-4d60-b913-453838513c39",
     "showTitle": false,
     "title": ""
    }
   },
   "outputs": [],
   "source": [
    "# Numerical Features:- Vector Assembling and Numerical Scaling\n",
    "# Categorical Features:- String Indexing and Vector Assembling\n",
    "# Vector Assembling- To apply our ML model, we need to combine all of our numerical and categorical features into vectors. For now, let's create a feature vector for our numerical columns"
   ]
  },
  {
   "cell_type": "code",
   "execution_count": 0,
   "metadata": {
    "application/vnd.databricks.v1+cell": {
     "cellMetadata": {},
     "inputWidgets": {},
     "nuid": "a39ebab8-fc35-425a-bae5-33c8adc7f25a",
     "showTitle": false,
     "title": ""
    }
   },
   "outputs": [],
   "source": [
    "numerical_vector_assembler = VectorAssembler(inputCols = numerical_columns, outputCol = \"numerical_features_vectors\")\n",
    "df_new = numerical_vector_assembler.transform(df_new)"
   ]
  },
  {
   "cell_type": "code",
   "execution_count": 0,
   "metadata": {
    "application/vnd.databricks.v1+cell": {
     "cellMetadata": {},
     "inputWidgets": {},
     "nuid": "3ef4cd0d-38fc-4283-8472-ad0767354424",
     "showTitle": false,
     "title": ""
    }
   },
   "outputs": [],
   "source": [
    "# Let's standardize all of our numerical columns\n",
    "scaler = StandardScaler(inputCol = \"numerical_features_vectors\", \n",
    "                        outputCol=\"numerical_features_scaled\",\n",
    "                        withStd=True,\n",
    "                        withMean=True)"
   ]
  },
  {
   "cell_type": "code",
   "execution_count": 0,
   "metadata": {
    "application/vnd.databricks.v1+cell": {
     "cellMetadata": {},
     "inputWidgets": {},
     "nuid": "7e7d217e-e5ff-4d3a-88e1-22ce13f1d309",
     "showTitle": false,
     "title": ""
    }
   },
   "outputs": [],
   "source": [
    "df_new = scaler.fit(df_new).transform(df_new)"
   ]
  },
  {
   "cell_type": "code",
   "execution_count": 0,
   "metadata": {
    "application/vnd.databricks.v1+cell": {
     "cellMetadata": {},
     "inputWidgets": {},
     "nuid": "9469da08-fcdd-4f77-83c1-7c24c4e390c6",
     "showTitle": false,
     "title": ""
    }
   },
   "outputs": [],
   "source": [
    "# String Indexing -> Vector Assembling\n",
    "# String Indexing: Converting all the string columns to numerical columns"
   ]
  },
  {
   "cell_type": "code",
   "execution_count": 0,
   "metadata": {
    "application/vnd.databricks.v1+cell": {
     "cellMetadata": {},
     "inputWidgets": {},
     "nuid": "5c2be0d0-11ed-4c56-b370-591b1f594de0",
     "showTitle": false,
     "title": ""
    }
   },
   "outputs": [],
   "source": [
    "categorical_columns_indexed = [name + \"_Indexed\" for name in categorical_columns]\n",
    "\n",
    "indexer = StringIndexer(inputCols=categorical_columns,outputCols=categorical_columns_indexed)\n",
    "\n",
    "df_new = indexer.fit(df_new).transform(df_new)"
   ]
  },
  {
   "cell_type": "code",
   "execution_count": 0,
   "metadata": {
    "application/vnd.databricks.v1+cell": {
     "cellMetadata": {},
     "inputWidgets": {},
     "nuid": "4a053f74-6bd4-4413-b089-1a9a02d3e759",
     "showTitle": false,
     "title": ""
    }
   },
   "outputs": [],
   "source": [
    "categorical_columns_indexed.remove(\"customerID_Indexed\")\n",
    "categorical_columns_indexed.remove(\"Churn_Indexed\")"
   ]
  },
  {
   "cell_type": "code",
   "execution_count": 0,
   "metadata": {
    "application/vnd.databricks.v1+cell": {
     "cellMetadata": {},
     "inputWidgets": {},
     "nuid": "6696d133-de7f-4a11-b0a5-ea79813e20fe",
     "showTitle": false,
     "title": ""
    }
   },
   "outputs": [],
   "source": [
    "categorical_vector_assembler = VectorAssembler(inputCols=categorical_columns_indexed,outputCol=\"categorical_features_vectors\")\n",
    "df_new = categorical_vector_assembler.transform(df_new)"
   ]
  },
  {
   "cell_type": "code",
   "execution_count": 0,
   "metadata": {
    "application/vnd.databricks.v1+cell": {
     "cellMetadata": {},
     "inputWidgets": {},
     "nuid": "4df7af6e-603a-49c0-bf01-e80972625c8e",
     "showTitle": false,
     "title": ""
    }
   },
   "outputs": [],
   "source": [
    "final_vector_assembler = VectorAssembler(inputCols=[\"categorical_features_vectors\",\"numerical_features_scaled\"],outputCol=\"final_feature_vector\")\n",
    "\n",
    "df_new = final_vector_assembler.transform(df_new)"
   ]
  },
  {
   "cell_type": "code",
   "execution_count": 0,
   "metadata": {
    "application/vnd.databricks.v1+cell": {
     "cellMetadata": {},
     "inputWidgets": {},
     "nuid": "1a22fb07-ee85-4264-8469-2eded0e0f501",
     "showTitle": false,
     "title": ""
    }
   },
   "outputs": [],
   "source": [
    "display(df_new.select(\"final_feature_vector\",\"Churn_Indexed\"))"
   ]
  },
  {
   "cell_type": "code",
   "execution_count": 0,
   "metadata": {
    "application/vnd.databricks.v1+cell": {
     "cellMetadata": {},
     "inputWidgets": {},
     "nuid": "4581c03c-8e5e-496e-98a2-a5519260a479",
     "showTitle": false,
     "title": ""
    }
   },
   "outputs": [],
   "source": [
    "# 1. Train and test data splitting\n",
    "# 2. Creating our model\n",
    "# 3. Training our model\n",
    "# 4. Make initial predictions using our model"
   ]
  },
  {
   "cell_type": "code",
   "execution_count": 0,
   "metadata": {
    "application/vnd.databricks.v1+cell": {
     "cellMetadata": {},
     "inputWidgets": {},
     "nuid": "f5f7628f-1658-46ec-8b1b-d2fcb2bb1eb4",
     "showTitle": false,
     "title": ""
    }
   },
   "outputs": [],
   "source": [
    "train, test = df_new.randomSplit([0.7,0.3],seed=100)\n",
    "\n",
    "train.count()\n",
    "\n",
    "# test.count()"
   ]
  },
  {
   "cell_type": "code",
   "execution_count": 0,
   "metadata": {
    "application/vnd.databricks.v1+cell": {
     "cellMetadata": {},
     "inputWidgets": {},
     "nuid": "57d47776-5205-4c4c-a6e1-19670357fdeb",
     "showTitle": false,
     "title": ""
    }
   },
   "outputs": [],
   "source": [
    "# Now let's create and train our decision tree\n",
    "dt = DecisionTreeClassifier(featuresCol=\"final_feature_vector\",labelCol=\"Churn_Indexed\",maxDepth=3)\n",
    "model = dt.fit(train)"
   ]
  },
  {
   "cell_type": "code",
   "execution_count": 0,
   "metadata": {
    "application/vnd.databricks.v1+cell": {
     "cellMetadata": {},
     "inputWidgets": {},
     "nuid": "0da4f447-d0ee-434b-8f2d-8c7118993cf0",
     "showTitle": false,
     "title": ""
    }
   },
   "outputs": [],
   "source": [
    "predictions_test = model.transform(test)"
   ]
  },
  {
   "cell_type": "code",
   "execution_count": 0,
   "metadata": {
    "application/vnd.databricks.v1+cell": {
     "cellMetadata": {},
     "inputWidgets": {},
     "nuid": "4c48f97d-7c3b-456b-b2f1-8572dd425e08",
     "showTitle": false,
     "title": ""
    }
   },
   "outputs": [],
   "source": [
    "# Model Evaluation\n",
    "# 1. Calculating area under the ROC curve for training set\n",
    "# 2. Calculating area under the ROC curve for test set\n",
    "# 3. Hyper Parameter Tuning"
   ]
  },
  {
   "cell_type": "code",
   "execution_count": 0,
   "metadata": {
    "application/vnd.databricks.v1+cell": {
     "cellMetadata": {},
     "inputWidgets": {},
     "nuid": "b324b6ac-519d-47f3-8f15-46c331ea9efe",
     "showTitle": false,
     "title": ""
    }
   },
   "outputs": [],
   "source": [
    "# AUC measures the ability of the classifier to distinguish between positive and negative classes. It ranges from 0 to 1, where 1 represents a perfect classifier, 0.5 for random classifier."
   ]
  },
  {
   "cell_type": "code",
   "execution_count": 0,
   "metadata": {
    "application/vnd.databricks.v1+cell": {
     "cellMetadata": {},
     "inputWidgets": {},
     "nuid": "269c7a5f-8123-441a-9f17-f6ea5de27875",
     "showTitle": false,
     "title": ""
    }
   },
   "outputs": [],
   "source": [
    "evaluator = BinaryClassificationEvaluator(labelCol=\"Churn_Indexed\")\n",
    "auc_test = evaluator.evaluate(predictions_test,{evaluator.metricName:\"areaUnderROC\"})\n",
    "auc_test"
   ]
  },
  {
   "cell_type": "code",
   "execution_count": 0,
   "metadata": {
    "application/vnd.databricks.v1+cell": {
     "cellMetadata": {},
     "inputWidgets": {},
     "nuid": "f86ba5c3-b54e-4c93-a6a0-41a7397c8e4b",
     "showTitle": false,
     "title": ""
    }
   },
   "outputs": [],
   "source": [
    "def evaluate_dt(model_params):\n",
    "  test_accuracies=[]\n",
    "  train_accuracies=[]\n",
    "\n",
    "  for maxD in model_params:\n",
    "    # train the model based on the maxD\n",
    "    decision_tree = DecisionTreeClassifier(featuresCol=\"final_feature_vector\",labelCol=\"Churn_Indexed\",maxDepth=maxD)\n",
    "    dtModel = decision_tree.fit(train)\n",
    "\n",
    "    # Calculating test error\n",
    "    predictions_test = dtModel.transform(test)\n",
    "    evaluator = BinaryClassificationEvaluator(labelCol=\"Churn_Indexed\")\n",
    "    auc_test = evaluator.evaluate(predictions_test,{evaluator.metricName:\"areaUnderROC\"})\n",
    "    # recording the accuracy\n",
    "    test_accuracies.append(auc_test)\n",
    "\n",
    "    # Calculating train error\n",
    "    predictions_train = dtModel.transform(train)\n",
    "    evaluator = BinaryClassificationEvaluator(labelCol=\"Churn_Indexed\")\n",
    "    auc_train = evaluator.evaluate(predictions_test,{evaluator.metricName:\"areaUnderROC\"})\n",
    "    train_accuracies.append(auc_train)\n",
    "\n",
    "  return(test_accuracies,train_accuracies)"
   ]
  },
  {
   "cell_type": "code",
   "execution_count": 0,
   "metadata": {
    "application/vnd.databricks.v1+cell": {
     "cellMetadata": {},
     "inputWidgets": {},
     "nuid": "e2d81aea-d7cb-4955-b27c-c87a290660e5",
     "showTitle": false,
     "title": ""
    }
   },
   "outputs": [],
   "source": []
  }
 ],
 "metadata": {
  "application/vnd.databricks.v1+notebook": {
   "dashboards": [],
   "language": "python",
   "notebookMetadata": {
    "pythonIndentUnit": 4
   },
   "notebookName": "ML_CustomerChurnPrediction",
   "widgets": {}
  }
 },
 "nbformat": 4,
 "nbformat_minor": 0
}
