{
 "cells": [
  {
   "cell_type": "code",
   "execution_count": 0,
   "metadata": {
    "application/vnd.databricks.v1+cell": {
     "cellMetadata": {},
     "inputWidgets": {},
     "nuid": "ca877c00-2554-4975-97c5-22aefdfb7d6c",
     "showTitle": false,
     "title": ""
    }
   },
   "outputs": [],
   "source": [
    "from pyspark import SparkContext\n",
    "sc = SparkContext.getOrCreate()\n",
    "import pyspark\n",
    "from pyspark.sql import SparkSession\n",
    "from pyspark.sql.functions import year, month"
   ]
  },
  {
   "cell_type": "code",
   "execution_count": 0,
   "metadata": {
    "application/vnd.databricks.v1+cell": {
     "cellMetadata": {},
     "inputWidgets": {},
     "nuid": "33d59aa0-69fb-495d-89ab-fda945da10cb",
     "showTitle": false,
     "title": ""
    }
   },
   "outputs": [],
   "source": [
    "from pyspark.sql import SQLContext\n",
    "sqlcontextt = SQLContext(sc)"
   ]
  },
  {
   "cell_type": "code",
   "execution_count": 0,
   "metadata": {
    "application/vnd.databricks.v1+cell": {
     "cellMetadata": {},
     "inputWidgets": {},
     "nuid": "8003e786-7c74-49d0-9377-7ddb75f11c36",
     "showTitle": false,
     "title": ""
    }
   },
   "outputs": [],
   "source": [
    "df_infosys = spark.read.option(\"header\",\"true\").option(\"inferschema\",\"true\").csv(\"/mnt/adls/test/PrachiSingh/Try/StockPrices/Infosys.csv\")\n",
    "df_sbi = spark.read.option(\"header\",\"true\").option(\"inferschema\",\"true\").csv(\"/mnt/adls/test/PrachiSingh/Try/StockPrices/SBI.csv\")\n",
    "df_TataMotors = spark.read.option(\"header\",\"true\").option(\"inferschema\",\"true\").csv(\"/mnt/adls/test/PrachiSingh/Try/StockPrices/TataMotors.csv\")"
   ]
  },
  {
   "cell_type": "code",
   "execution_count": 0,
   "metadata": {
    "application/vnd.databricks.v1+cell": {
     "cellMetadata": {},
     "inputWidgets": {},
     "nuid": "65dd6505-3663-48ac-b509-3fa43b5c22c5",
     "showTitle": false,
     "title": ""
    }
   },
   "outputs": [],
   "source": [
    "df_TataMotors.select(year(\"Date\").alias(\"YearDate\"),\"Close\").groupBy(\"YearDate\").avg(\"Close\").sort(\"YearDate\").display()"
   ]
  },
  {
   "cell_type": "code",
   "execution_count": 0,
   "metadata": {
    "application/vnd.databricks.v1+cell": {
     "cellMetadata": {},
     "inputWidgets": {},
     "nuid": "2d23c693-930a-4910-ab40-3d5e88a06b90",
     "showTitle": false,
     "title": ""
    }
   },
   "outputs": [],
   "source": [
    "df_TataMotors.select(year(\"Date\").alias(\"YearDate\"),month(\"Date\").alias(\"MonthDate\"),\"Close\").groupBy(\"YearDate\",\"MonthDate\").avg(\"Close\").sort(\"avg(Close)\").display()"
   ]
  },
  {
   "cell_type": "code",
   "execution_count": 0,
   "metadata": {
    "application/vnd.databricks.v1+cell": {
     "cellMetadata": {},
     "inputWidgets": {},
     "nuid": "a4fcd271-e31f-4a19-9d3b-e80ef8351bd2",
     "showTitle": false,
     "title": ""
    }
   },
   "outputs": [],
   "source": [
    "df_TataMotors.createOrReplaceTempView(\"TataMotors\")\n",
    "df_infosys.createOrReplaceTempView(\"Infosys\")\n",
    "df_sbi.createOrReplaceTempView(\"Sbi\")"
   ]
  },
  {
   "cell_type": "code",
   "execution_count": 0,
   "metadata": {
    "application/vnd.databricks.v1+cell": {
     "cellMetadata": {},
     "inputWidgets": {},
     "nuid": "d0f24037-ec4d-4622-910b-3ac2f19fe037",
     "showTitle": false,
     "title": ""
    }
   },
   "outputs": [],
   "source": [
    "sqlcontextt.sql(\"SELECT * FROM TataMotors\").show(5)"
   ]
  }
 ],
 "metadata": {
  "application/vnd.databricks.v1+notebook": {
   "dashboards": [],
   "language": "python",
   "notebookMetadata": {
    "pythonIndentUnit": 4
   },
   "notebookName": "Explore_Stock_Prices_using_SparkSQL",
   "widgets": {}
  }
 },
 "nbformat": 4,
 "nbformat_minor": 0
}
